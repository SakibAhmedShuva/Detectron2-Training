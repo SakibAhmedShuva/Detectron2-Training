{
 "cells": [
  {
   "cell_type": "markdown",
   "metadata": {
    "papermill": {
     "duration": 0.016729,
     "end_time": "2021-11-12T05:35:57.867059",
     "exception": false,
     "start_time": "2021-11-12T05:35:57.850330",
     "status": "completed"
    },
    "tags": []
   },
   "source": [
    "## Install Detectron2\n"
   ]
  },
  {
   "cell_type": "code",
   "execution_count": null,
   "metadata": {
    "_kg_hide-output": false,
    "execution": {
     "iopub.execute_input": "2024-12-30T04:23:41.419357Z",
     "iopub.status.busy": "2024-12-30T04:23:41.419042Z",
     "iopub.status.idle": "2024-12-30T04:23:42.626781Z",
     "shell.execute_reply": "2024-12-30T04:23:42.625992Z",
     "shell.execute_reply.started": "2024-12-30T04:23:41.419329Z"
    },
    "papermill": {
     "duration": 1.79252,
     "end_time": "2021-11-12T05:35:59.676505",
     "exception": false,
     "start_time": "2021-11-12T05:35:57.883985",
     "status": "completed"
    },
    "tags": [],
    "trusted": true
   },
   "outputs": [],
   "source": [
    "import torch, torchvision\n",
    "print(torch.__version__, torch.cuda.is_available())"
   ]
  },
  {
   "cell_type": "code",
   "execution_count": null,
   "metadata": {
    "_kg_hide-output": true,
    "execution": {
     "iopub.execute_input": "2024-12-30T04:40:49.206977Z",
     "iopub.status.busy": "2024-12-30T04:40:49.206655Z",
     "iopub.status.idle": "2024-12-30T04:43:00.190483Z",
     "shell.execute_reply": "2024-12-30T04:43:00.189651Z",
     "shell.execute_reply.started": "2024-12-30T04:40:49.206943Z"
    },
    "papermill": {
     "duration": 175.314848,
     "end_time": "2021-11-12T05:38:55.009155",
     "exception": false,
     "start_time": "2021-11-12T05:35:59.694307",
     "status": "completed"
    },
    "tags": [],
    "trusted": true
   },
   "outputs": [],
   "source": [
    "!python -m pip install 'git+https://github.com/facebookresearch/detectron2.git'"
   ]
  },
  {
   "cell_type": "markdown",
   "metadata": {
    "papermill": {
     "duration": 0.037896,
     "end_time": "2021-11-12T05:38:55.085757",
     "exception": false,
     "start_time": "2021-11-12T05:38:55.047861",
     "status": "completed"
    },
    "tags": []
   },
   "source": [
    "# importing libraries\n"
   ]
  },
  {
   "cell_type": "code",
   "execution_count": null,
   "metadata": {
    "execution": {
     "iopub.execute_input": "2024-12-30T04:43:00.191802Z",
     "iopub.status.busy": "2024-12-30T04:43:00.191473Z",
     "iopub.status.idle": "2024-12-30T04:43:09.252627Z",
     "shell.execute_reply": "2024-12-30T04:43:09.251782Z",
     "shell.execute_reply.started": "2024-12-30T04:43:00.191773Z"
    },
    "papermill": {
     "duration": 2.948351,
     "end_time": "2021-11-12T05:38:58.071438",
     "exception": false,
     "start_time": "2021-11-12T05:38:55.123087",
     "status": "completed"
    },
    "tags": [],
    "trusted": true
   },
   "outputs": [],
   "source": [
    "import pandas as pd\n",
    "import numpy as np\n",
    "import pandas as pd \n",
    "from tqdm import tqdm\n",
    "from tqdm import tqdm_notebook as tqdm # progress bar\n",
    "from datetime import datetime\n",
    "import time\n",
    "import matplotlib.pyplot as plt\n",
    "from pycocotools.coco import COCO\n",
    "import os, json, cv2, random\n",
    "import skimage.io as io\n",
    "import copy\n",
    "from pathlib import Path\n",
    "from typing import Optional\n",
    "\n",
    "from tqdm import tqdm\n",
    "import itertools\n",
    "\n",
    "import torch\n",
    "import albumentations as A\n",
    "from albumentations.pytorch.transforms import ToTensorV2\n",
    "\n",
    "from glob import glob\n",
    "import numba\n",
    "from numba import jit\n",
    "\n",
    "import warnings\n",
    "warnings.filterwarnings('ignore') #Ignore \"future\" warnings and Data-Frame-Slicing warnings.\n",
    "\n",
    "# detectron2\n",
    "from detectron2.structures import BoxMode\n",
    "from detectron2 import model_zoo\n",
    "from detectron2.config import get_cfg\n",
    "from detectron2.data import DatasetCatalog, MetadataCatalog\n",
    "from detectron2.engine import DefaultPredictor, DefaultTrainer, launch\n",
    "from detectron2.evaluation import COCOEvaluator\n",
    "from detectron2.structures import BoxMode\n",
    "from detectron2.utils.visualizer import ColorMode\n",
    "from detectron2.utils.logger import setup_logger\n",
    "from detectron2.utils.visualizer import Visualizer\n",
    "\n",
    "from detectron2.data import DatasetCatalog, MetadataCatalog, build_detection_test_loader, build_detection_train_loader\n",
    "from detectron2.data import detection_utils as utils\n",
    "\n",
    "from detectron2.data import DatasetCatalog, MetadataCatalog, build_detection_test_loader, build_detection_train_loader\n",
    "from detectron2.data import detection_utils as utils\n",
    "import detectron2.data.transforms as T\n",
    "from detectron2.evaluation import COCOEvaluator, inference_on_dataset\n",
    "\n",
    "setup_logger()"
   ]
  },
  {
   "cell_type": "markdown",
   "metadata": {
    "papermill": {
     "duration": 0.035679,
     "end_time": "2021-11-12T05:38:58.143625",
     "exception": false,
     "start_time": "2021-11-12T05:38:58.107946",
     "status": "completed"
    },
    "tags": []
   },
   "source": [
    "# Loading Dataset"
   ]
  },
  {
   "cell_type": "code",
   "execution_count": null,
   "metadata": {
    "execution": {
     "iopub.execute_input": "2024-12-30T04:43:09.253941Z",
     "iopub.status.busy": "2024-12-30T04:43:09.253472Z",
     "iopub.status.idle": "2024-12-30T04:43:14.233103Z",
     "shell.execute_reply": "2024-12-30T04:43:14.232105Z",
     "shell.execute_reply.started": "2024-12-30T04:43:09.253918Z"
    },
    "trusted": true
   },
   "outputs": [],
   "source": [
    "!gdown 1fcXLegUtSsdsx6aTT-3OuksdsdsadsaStVV"
   ]
  },
  {
   "cell_type": "code",
   "execution_count": null,
   "metadata": {
    "execution": {
     "iopub.execute_input": "2024-12-30T04:43:14.236083Z",
     "iopub.status.busy": "2024-12-30T04:43:14.235781Z",
     "iopub.status.idle": "2024-12-30T04:43:15.609662Z",
     "shell.execute_reply": "2024-12-30T04:43:15.608917Z",
     "shell.execute_reply.started": "2024-12-30T04:43:14.236062Z"
    },
    "trusted": true
   },
   "outputs": [],
   "source": [
    "import zipfile\n",
    "from tqdm import tqdm\n",
    "\n",
    "def extract_with_progress(zip_path, extract_path):\n",
    "    with zipfile.ZipFile(zip_path, 'r') as zip_ref:\n",
    "        # Get list of files\n",
    "        file_list = zip_ref.namelist()\n",
    "        # Show progress bar\n",
    "        for file in tqdm(file_list):\n",
    "            zip_ref.extract(file, extract_path)\n",
    "\n",
    "# Use the function\n",
    "extract_with_progress('Exterior.zip', 'data')"
   ]
  },
  {
   "cell_type": "code",
   "execution_count": null,
   "metadata": {
    "execution": {
     "iopub.execute_input": "2024-12-30T04:43:15.610862Z",
     "iopub.status.busy": "2024-12-30T04:43:15.610568Z",
     "iopub.status.idle": "2024-12-30T04:43:15.614112Z",
     "shell.execute_reply": "2024-12-30T04:43:15.613317Z",
     "shell.execute_reply.started": "2024-12-30T04:43:15.610833Z"
    },
    "trusted": true
   },
   "outputs": [],
   "source": [
    "ANNOTATIONS_FILE_PATH = \"/kaggle/working/data/annotations/instances_default.json\"\n",
    "IMAGES_DIR_PATH = \"/kaggle/working/data/images\""
   ]
  },
  {
   "cell_type": "code",
   "execution_count": null,
   "metadata": {
    "execution": {
     "iopub.execute_input": "2024-12-30T04:43:15.615294Z",
     "iopub.status.busy": "2024-12-30T04:43:15.614998Z",
     "iopub.status.idle": "2024-12-30T04:43:17.068457Z",
     "shell.execute_reply": "2024-12-30T04:43:17.067534Z",
     "shell.execute_reply.started": "2024-12-30T04:43:15.615274Z"
    },
    "papermill": {
     "duration": 4.596996,
     "end_time": "2021-11-12T05:39:02.776378",
     "exception": false,
     "start_time": "2021-11-12T05:38:58.179382",
     "status": "completed"
    },
    "tags": [],
    "trusted": true
   },
   "outputs": [],
   "source": [
    "Data_Resister_training=\"my_train\";\n",
    "Data_Resister_valid=\"my_valid\";\n",
    "from detectron2.data.datasets import register_coco_instances\n",
    "dataDir=Path(IMAGES_DIR_PATH)\n",
    "\n",
    "register_coco_instances(Data_Resister_training,{}, ANNOTATIONS_FILE_PATH, dataDir)\n",
    "register_coco_instances(Data_Resister_valid,{}, ANNOTATIONS_FILE_PATH, dataDir)\n",
    "\n",
    "metadata = MetadataCatalog.get(Data_Resister_training)\n",
    "dataset_train = DatasetCatalog.get(Data_Resister_training)\n",
    "dataset_valid = DatasetCatalog.get(Data_Resister_valid)"
   ]
  },
  {
   "cell_type": "markdown",
   "metadata": {
    "papermill": {
     "duration": 0.063201,
     "end_time": "2021-11-12T05:39:08.256633",
     "exception": false,
     "start_time": "2021-11-12T05:39:08.193432",
     "status": "completed"
    },
    "tags": []
   },
   "source": [
    "# Evaluator"
   ]
  },
  {
   "cell_type": "code",
   "execution_count": null,
   "metadata": {
    "execution": {
     "iopub.execute_input": "2024-12-30T04:43:17.076293Z",
     "iopub.status.busy": "2024-12-30T04:43:17.076045Z",
     "iopub.status.idle": "2024-12-30T04:43:17.090691Z",
     "shell.execute_reply": "2024-12-30T04:43:17.090085Z",
     "shell.execute_reply.started": "2024-12-30T04:43:17.076262Z"
    },
    "papermill": {
     "duration": 0.079729,
     "end_time": "2021-11-12T05:39:08.403500",
     "exception": false,
     "start_time": "2021-11-12T05:39:08.323771",
     "status": "completed"
    },
    "tags": [],
    "trusted": true
   },
   "outputs": [],
   "source": [
    "# Taken from https://www.kaggle.com/theoviel/competition-metric-map-iou\n",
    "from detectron2.evaluation.evaluator import DatasetEvaluator\n",
    "import pycocotools.mask as mask_util\n",
    "\n",
    "def precision_at(threshold, iou):\n",
    "    matches = iou > threshold\n",
    "    true_positives = np.sum(matches, axis=1) == 1  # Correct objects\n",
    "    false_positives = np.sum(matches, axis=0) == 0  # Missed objects\n",
    "    false_negatives = np.sum(matches, axis=1) == 0  # Extra objects\n",
    "    return np.sum(true_positives), np.sum(false_positives), np.sum(false_negatives)\n",
    "\n",
    "def score(pred, targ):\n",
    "    pred_masks = pred['instances'].pred_masks.cpu().numpy()\n",
    "    enc_preds = [mask_util.encode(np.asarray(p, order='F')) for p in pred_masks]\n",
    "    \n",
    "    # Convert segmentation to RLE if it isn't already\n",
    "    enc_targs = []\n",
    "    for t in targ:\n",
    "        if isinstance(t['segmentation'], dict) and 'counts' in t['segmentation']:\n",
    "            # Already in RLE format\n",
    "            enc_targs.append(t['segmentation'])\n",
    "        else:\n",
    "            # Convert polygon or other format to RLE\n",
    "            h, w = pred_masks[0].shape  # assuming all masks have same dimensions\n",
    "            rles = mask_util.frPyObjects(t['segmentation'], h, w)\n",
    "            enc_targs.append(mask_util.merge(rles))\n",
    "    \n",
    "    ious = mask_util.iou(enc_preds, enc_targs, [0]*len(enc_targs))\n",
    "    prec = []\n",
    "    for t in np.arange(0.5, 1.0, 0.05):\n",
    "        tp, fp, fn = precision_at(t, ious)\n",
    "        p = tp / (tp + fp + fn)\n",
    "        prec.append(p)\n",
    "    return np.mean(prec)\n",
    "    \n",
    "class MAPIOUEvaluator(DatasetEvaluator):\n",
    "    def __init__(self, dataset_name):\n",
    "        dataset_dicts = DatasetCatalog.get(dataset_name)\n",
    "        self.annotations_cache = {item['image_id']:item['annotations'] for item in dataset_dicts}\n",
    "            \n",
    "    def reset(self):\n",
    "        self.scores = []\n",
    "\n",
    "    def process(self, inputs, outputs):\n",
    "        for inp, out in zip(inputs, outputs):\n",
    "            if len(out['instances']) == 0:\n",
    "                self.scores.append(0)    \n",
    "            else:\n",
    "                targ = self.annotations_cache[inp['image_id']]\n",
    "                self.scores.append(score(out, targ))\n",
    "\n",
    "    def evaluate(self):\n",
    "        return {\"MaP IoU\": np.mean(self.scores)}\n",
    "\n",
    "class Trainer(DefaultTrainer):\n",
    "    @classmethod\n",
    "    def build_evaluator(cls, cfg, dataset_name, output_folder=None):\n",
    "        return MAPIOUEvaluator(dataset_name)\n",
    "    \n"
   ]
  },
  {
   "cell_type": "markdown",
   "metadata": {
    "papermill": {
     "duration": 0.127495,
     "end_time": "2021-11-12T05:39:08.603531",
     "exception": false,
     "start_time": "2021-11-12T05:39:08.476036",
     "status": "completed"
    },
    "tags": []
   },
   "source": [
    "# Training"
   ]
  },
  {
   "cell_type": "code",
   "execution_count": null,
   "metadata": {
    "execution": {
     "iopub.execute_input": "2024-12-30T04:44:07.892000Z",
     "iopub.status.busy": "2024-12-30T04:44:07.891706Z",
     "iopub.status.idle": "2024-12-30T04:52:02.472158Z",
     "shell.execute_reply": "2024-12-30T04:52:02.470806Z",
     "shell.execute_reply.started": "2024-12-30T04:44:07.891977Z"
    },
    "trusted": true
   },
   "outputs": [],
   "source": [
    "cfg = get_cfg()\n",
    "config_name = \"COCO-InstanceSegmentation/mask_rcnn_X_101_32x8d_FPN_3x.yaml\"\n",
    "cfg.merge_from_file(model_zoo.get_config_file(config_name))\n",
    "\n",
    "# Dataset Configuration\n",
    "cfg.DATASETS.TRAIN = (Data_Resister_training,)\n",
    "cfg.DATASETS.TEST = (Data_Resister_valid,)\n",
    "cfg.DATALOADER.NUM_WORKERS = 4\n",
    "cfg.INPUT.MASK_FORMAT = 'bitmask'\n",
    "\n",
    "# Model Configuration\n",
    "cfg.MODEL.WEIGHTS = model_zoo.get_checkpoint_url(config_name)\n",
    "cfg.MODEL.ROI_HEADS.BATCH_SIZE_PER_IMAGE = 1024\n",
    "cfg.MODEL.ROI_HEADS.NUM_CLASSES = 29\n",
    "cfg.MODEL.ROI_HEADS.SCORE_THRESH_TEST = 0.3\n",
    "cfg.MODEL.BACKBONE.FREEZE_AT = 1\n",
    "\n",
    "# Training Configuration\n",
    "cfg.SOLVER.IMS_PER_BATCH = 2\n",
    "cfg.SOLVER.BASE_LR = 0.0005\n",
    "cfg.SOLVER.MAX_ITER = 20000\n",
    "cfg.SOLVER.STEPS = (7000, 9000)\n",
    "\n",
    "# Optimizer Configuration\n",
    "cfg.SOLVER.MOMENTUM = 0.9\n",
    "cfg.SOLVER.WEIGHT_DECAY = 0.0005\n",
    "cfg.SOLVER.GAMMA = 0.1\n",
    "\n",
    "# Warmup Configuration\n",
    "cfg.SOLVER.WARMUP_FACTOR = 1.0 / 2000\n",
    "cfg.SOLVER.WARMUP_ITERS = 2000\n",
    "cfg.SOLVER.WARMUP_METHOD = \"linear\"\n",
    "\n",
    "# Evaluation and Checkpoint Configuration\n",
    "cfg.TEST.EVAL_PERIOD = 500\n",
    "cfg.SOLVER.CHECKPOINT_PERIOD = 500\n",
    "\n",
    "# Create output directory\n",
    "os.makedirs(cfg.OUTPUT_DIR, exist_ok=True)\n",
    "\n",
    "# Initialize and start training\n",
    "trainer = Trainer(cfg)  # or AugTrainer(cfg) for data augmentation\n",
    "trainer.resume_or_load(resume=False)\n",
    "trainer.train()"
   ]
  },
  {
   "cell_type": "markdown",
   "metadata": {
    "papermill": {
     "duration": 0.122394,
     "end_time": "2021-11-12T06:28:31.064589",
     "exception": false,
     "start_time": "2021-11-12T06:28:30.942195",
     "status": "completed"
    },
    "tags": []
   },
   "source": [
    "# Evaluator\n",
    "* Famouns dataset's evaluator is already implemented in detectron2.\n",
    "* For example, many kinds of AP (Average Precision) are calculted in COCOEvaluator.\n",
    "* **COCOEvaluator calculates AP with IoU from 0.50 to 0.95**"
   ]
  },
  {
   "cell_type": "code",
   "execution_count": null,
   "metadata": {
    "execution": {
     "iopub.execute_input": "2024-12-30T03:57:25.493917Z",
     "iopub.status.busy": "2024-12-30T03:57:25.493561Z",
     "iopub.status.idle": "2024-12-30T03:57:37.150435Z",
     "shell.execute_reply": "2024-12-30T03:57:37.149059Z",
     "shell.execute_reply.started": "2024-12-30T03:57:25.493887Z"
    },
    "papermill": {
     "duration": 18.584532,
     "end_time": "2021-11-12T06:28:49.776497",
     "exception": false,
     "start_time": "2021-11-12T06:28:31.191965",
     "status": "completed"
    },
    "tags": [],
    "trusted": true
   },
   "outputs": [],
   "source": [
    "evaluator = COCOEvaluator(Data_Resister_valid, cfg, False, output_dir=\"./output/\")\n",
    "cfg.MODEL.WEIGHTS=\"../input/detectron2cell/output/model_final.pth\"\n",
    "#cfg.MODEL.ROI_HEADS.SCORE_THRESH_TEST = 0.2   # set a custom testing threshold\n",
    "#cfg.INPUT.MASK_FORMAT='polygon'\n",
    "val_loader = build_detection_test_loader(cfg, Data_Resister_valid)\n",
    "inference_on_dataset(trainer.model, val_loader, evaluator)"
   ]
  },
  {
   "cell_type": "code",
   "execution_count": null,
   "metadata": {
    "execution": {
     "iopub.execute_input": "2021-11-12T06:28:50.169406Z",
     "iopub.status.busy": "2021-11-12T06:28:50.168838Z",
     "iopub.status.idle": "2021-11-12T06:28:50.209817Z",
     "shell.execute_reply": "2021-11-12T06:28:50.209383Z",
     "shell.execute_reply.started": "2021-11-12T05:32:37.448724Z"
    },
    "papermill": {
     "duration": 0.218301,
     "end_time": "2021-11-12T06:28:50.209938",
     "exception": false,
     "start_time": "2021-11-12T06:28:49.991637",
     "status": "completed"
    },
    "tags": []
   },
   "outputs": [],
   "source": [
    "import pandas as pd\n",
    "metrics_df = pd.read_json(\"./output/metrics.json\", orient=\"records\", lines=True)\n",
    "mdf = metrics_df.sort_values(\"iteration\")"
   ]
  },
  {
   "cell_type": "markdown",
   "metadata": {
    "papermill": {
     "duration": 0.131208,
     "end_time": "2021-11-12T06:28:50.468944",
     "exception": false,
     "start_time": "2021-11-12T06:28:50.337736",
     "status": "completed"
    },
    "tags": []
   },
   "source": [
    "# Loss curve"
   ]
  },
  {
   "cell_type": "code",
   "execution_count": null,
   "metadata": {
    "execution": {
     "iopub.execute_input": "2024-12-30T03:57:44.228718Z",
     "iopub.status.busy": "2024-12-30T03:57:44.228366Z",
     "iopub.status.idle": "2024-12-30T03:57:44.474991Z",
     "shell.execute_reply": "2024-12-30T03:57:44.473820Z",
     "shell.execute_reply.started": "2024-12-30T03:57:44.228693Z"
    },
    "papermill": {
     "duration": 0.362651,
     "end_time": "2021-11-12T06:28:50.961459",
     "exception": false,
     "start_time": "2021-11-12T06:28:50.598808",
     "status": "completed"
    },
    "tags": [],
    "trusted": true
   },
   "outputs": [],
   "source": [
    "# 1. Loss curve\n",
    "fig, ax = plt.subplots()\n",
    "\n",
    "mdf1 = mdf[~mdf[\"total_loss\"].isna()]\n",
    "ax.plot(mdf1[\"iteration\"], mdf1[\"total_loss\"], c=\"C0\", label=\"train\")\n",
    "if \"validation_loss\" in mdf.columns:\n",
    "    mdf2 = mdf[~mdf[\"validation_loss\"].isna()]\n",
    "    ax.plot(mdf2[\"iteration\"], mdf2[\"validation_loss\"], c=\"C1\", label=\"validation\")\n",
    "\n",
    "# ax.set_ylim([0, 0.5])\n",
    "ax.legend()\n",
    "ax.set_title(\"Loss curve\")\n",
    "plt.show()"
   ]
  },
  {
   "cell_type": "markdown",
   "metadata": {
    "papermill": {
     "duration": 0.130437,
     "end_time": "2021-11-12T06:28:51.222085",
     "exception": false,
     "start_time": "2021-11-12T06:28:51.091648",
     "status": "completed"
    },
    "tags": []
   },
   "source": [
    "# Accuracy curve"
   ]
  },
  {
   "cell_type": "code",
   "execution_count": null,
   "metadata": {
    "_kg_hide-input": true,
    "execution": {
     "iopub.execute_input": "2021-11-12T06:28:51.515421Z",
     "iopub.status.busy": "2021-11-12T06:28:51.501592Z",
     "iopub.status.idle": "2021-11-12T06:28:51.694765Z",
     "shell.execute_reply": "2021-11-12T06:28:51.695181Z",
     "shell.execute_reply.started": "2021-11-12T05:32:37.454061Z"
    },
    "papermill": {
     "duration": 0.343453,
     "end_time": "2021-11-12T06:28:51.695328",
     "exception": false,
     "start_time": "2021-11-12T06:28:51.351875",
     "status": "completed"
    },
    "tags": []
   },
   "outputs": [],
   "source": [
    "# 1. Accuracy curve\n",
    "fig, ax = plt.subplots()\n",
    "\n",
    "mdf1 = mdf[~mdf[\"fast_rcnn/cls_accuracy\"].isna()]\n",
    "ax.plot(mdf1[\"iteration\"], mdf1[\"fast_rcnn/cls_accuracy\"], c=\"C0\", label=\"train\")\n",
    "# ax.set_ylim([0, 0.5])\n",
    "ax.legend()\n",
    "ax.set_title(\"Accuracy curve\")\n",
    "plt.show()"
   ]
  },
  {
   "cell_type": "markdown",
   "metadata": {
    "papermill": {
     "duration": 0.131979,
     "end_time": "2021-11-12T06:28:51.958425",
     "exception": false,
     "start_time": "2021-11-12T06:28:51.826446",
     "status": "completed"
    },
    "tags": []
   },
   "source": [
    "# Predictor"
   ]
  },
  {
   "cell_type": "code",
   "execution_count": null,
   "metadata": {
    "execution": {
     "iopub.execute_input": "2021-11-12T06:28:52.230199Z",
     "iopub.status.busy": "2021-11-12T06:28:52.229327Z",
     "iopub.status.idle": "2021-11-12T06:28:53.140565Z",
     "shell.execute_reply": "2021-11-12T06:28:53.140055Z",
     "shell.execute_reply.started": "2021-11-12T05:32:37.456786Z"
    },
    "papermill": {
     "duration": 1.050061,
     "end_time": "2021-11-12T06:28:53.140710",
     "exception": false,
     "start_time": "2021-11-12T06:28:52.090649",
     "status": "completed"
    },
    "tags": []
   },
   "outputs": [],
   "source": [
    "cfg.MODEL.WEIGHTS = os.path.join(cfg.OUTPUT_DIR, \"model_final.pth\")\n",
    "#cfg.MODEL.WEIGHTS = \"./output/model_final.pth\"\n",
    "cfg.MODEL.ROI_HEADS.SCORE_THRESH_TEST = 0.5   # set a custom testing threshold for this model\n",
    "cfg.DATASETS.TEST = (Data_Resister_valid, )\n",
    "predictor = DefaultPredictor(cfg)"
   ]
  },
  {
   "cell_type": "code",
   "execution_count": null,
   "metadata": {},
   "outputs": [],
   "source": [
    "fig, ax = plt.subplots(4, 1, figsize =(20,50))\n",
    "indices=[ax[0],ax[1],ax[2],ax[3] ]\n",
    "i=-1\n",
    "for d in random.sample(dataset_valid, 4):\n",
    "    i=i+1    \n",
    "    im = cv2.imread(d[\"file_name\"])\n",
    "    outputs = predictor(im)\n",
    "    v = Visualizer(im[:, :, ::-1],\n",
    "                   metadata=metadata, \n",
    "                   scale=1, \n",
    "                   instance_mode=ColorMode.IMAGE_BW   # remove the colors of unsegmented pixels. This option is only available for segmentation models\n",
    "    )\n",
    "    out = v.draw_instance_predictions(outputs[\"instances\"].to(\"cpu\"))\n",
    "    indices[i].grid(False)\n",
    "    indices[i].imshow(out.get_image()[:, :, ::-1])"
   ]
  },
  {
   "cell_type": "markdown",
   "metadata": {},
   "source": [
    "# Remove Folder"
   ]
  },
  {
   "cell_type": "code",
   "execution_count": null,
   "metadata": {
    "collapsed": true,
    "execution": {
     "iopub.execute_input": "2024-12-30T03:49:28.630095Z",
     "iopub.status.busy": "2024-12-30T03:49:28.629783Z",
     "iopub.status.idle": "2024-12-30T03:49:28.658069Z",
     "shell.execute_reply": "2024-12-30T03:49:28.656835Z",
     "shell.execute_reply.started": "2024-12-30T03:49:28.630068Z"
    },
    "jupyter": {
     "outputs_hidden": true
    },
    "trusted": true
   },
   "outputs": [],
   "source": [
    "# import shutil\n",
    "\n",
    "# # Path to the folder to be removed\n",
    "# folder_to_remove = \"/kaggle/working/output\"\n",
    "\n",
    "# # Remove the folder\n",
    "# shutil.rmtree(folder_to_remove)\n",
    "\n",
    "# print(f\"Folder {folder_to_remove} removed successfully.\")\n"
   ]
  },
  {
   "cell_type": "markdown",
   "metadata": {},
   "source": [
    "# Remove File"
   ]
  },
  {
   "cell_type": "code",
   "execution_count": null,
   "metadata": {
    "execution": {
     "iopub.execute_input": "2024-12-30T03:50:37.449895Z",
     "iopub.status.busy": "2024-12-30T03:50:37.449546Z",
     "iopub.status.idle": "2024-12-30T03:50:37.454823Z",
     "shell.execute_reply": "2024-12-30T03:50:37.454045Z",
     "shell.execute_reply.started": "2024-12-30T03:50:37.449868Z"
    },
    "trusted": true
   },
   "outputs": [],
   "source": [
    "# import os\n",
    "\n",
    "# # Path to the file to be removed\n",
    "# file_to_remove = \"/kaggle/working/output\"\n",
    "\n",
    "# # Remove the file\n",
    "# if os.path.exists(file_to_remove):\n",
    "#     os.remove(file_to_remove)\n",
    "#     print(f\"File {file_to_remove} removed successfully.\")\n",
    "# else:\n",
    "#     print(f\"File {file_to_remove} does not exist.\")\n"
   ]
  },
  {
   "cell_type": "code",
   "execution_count": null,
   "metadata": {
    "trusted": true
   },
   "outputs": [],
   "source": []
  }
 ],
 "metadata": {
  "kaggle": {
   "accelerator": "nvidiaTeslaT4",
   "dataSources": [
    {
     "datasetId": 6396382,
     "sourceId": 10330301,
     "sourceType": "datasetVersion"
    }
   ],
   "dockerImageVersionId": 30823,
   "isGpuEnabled": true,
   "isInternetEnabled": true,
   "language": "python",
   "sourceType": "notebook"
  },
  "kernelspec": {
   "display_name": "Python 3",
   "language": "python",
   "name": "python3"
  },
  "language_info": {
   "codemirror_mode": {
    "name": "ipython",
    "version": 3
   },
   "file_extension": ".py",
   "mimetype": "text/x-python",
   "name": "python",
   "nbconvert_exporter": "python",
   "pygments_lexer": "ipython3",
   "version": "3.10.12"
  },
  "papermill": {
   "default_parameters": {},
   "duration": 3190.053056,
   "end_time": "2021-11-12T06:29:00.267339",
   "environment_variables": {},
   "exception": null,
   "input_path": "__notebook__.ipynb",
   "output_path": "__notebook__.ipynb",
   "parameters": {},
   "start_time": "2021-11-12T05:35:50.214283",
   "version": "2.3.3"
  }
 },
 "nbformat": 4,
 "nbformat_minor": 4
}
